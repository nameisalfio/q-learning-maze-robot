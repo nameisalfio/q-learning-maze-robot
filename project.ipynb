{
 "cells": [
  {
   "cell_type": "code",
   "execution_count": null,
   "id": "434ce0da",
   "metadata": {},
   "outputs": [
    {
     "name": "stdout",
     "output_type": "stream",
     "text": [
      "Collision detected!\n",
      "Collision detected!\n",
      "Collision detected!\n"
     ]
    }
   ],
   "source": [
    "from RoboticAgent import DiffDriveRoboticAgent\n",
    "from lib.dds.dds import DDS\n",
    "from lib.utils.time import Time\n",
    "\n",
    "dds = DDS()\n",
    "dds.start()\n",
    "t = Time()\n",
    "robot = DiffDriveRoboticAgent(dds, t)\n",
    "\n",
    "robot.move(\"UP\")\n",
    "robot.move(\"UP\")\n",
    "robot.move(\"UP\")\n",
    "robot.move(\"UP\")\n",
    "robot.move(\"UP\")\n",
    "robot.move(\"UP\")\n",
    "robot.move(\"UP\")"
   ]
  }
 ],
 "metadata": {
  "kernelspec": {
   "display_name": "base",
   "language": "python",
   "name": "python3"
  },
  "language_info": {
   "codemirror_mode": {
    "name": "ipython",
    "version": 3
   },
   "file_extension": ".py",
   "mimetype": "text/x-python",
   "name": "python",
   "nbconvert_exporter": "python",
   "pygments_lexer": "ipython3",
   "version": "3.12.2"
  }
 },
 "nbformat": 4,
 "nbformat_minor": 5
}
